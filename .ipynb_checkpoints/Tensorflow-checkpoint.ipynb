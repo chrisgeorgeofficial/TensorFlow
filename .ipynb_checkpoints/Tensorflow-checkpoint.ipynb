{
 "cells": [
  {
   "cell_type": "markdown",
   "id": "47b745b9-c110-4047-ac98-cce2e518b651",
   "metadata": {},
   "source": [
    "# Tensorflow"
   ]
  },
  {
   "cell_type": "code",
   "execution_count": 349,
   "id": "b54b0541-f47f-4671-ba00-5db39fac537d",
   "metadata": {},
   "outputs": [
    {
     "name": "stdout",
     "output_type": "stream",
     "text": [
      "Requirement already satisfied: tensorflow in c:\\users\\asus\\anaconda3\\lib\\site-packages (2.16.1)\n",
      "Requirement already satisfied: tensorflow-intel==2.16.1 in c:\\users\\asus\\anaconda3\\lib\\site-packages (from tensorflow) (2.16.1)\n",
      "Requirement already satisfied: absl-py>=1.0.0 in c:\\users\\asus\\anaconda3\\lib\\site-packages (from tensorflow-intel==2.16.1->tensorflow) (2.1.0)\n",
      "Requirement already satisfied: astunparse>=1.6.0 in c:\\users\\asus\\anaconda3\\lib\\site-packages (from tensorflow-intel==2.16.1->tensorflow) (1.6.3)\n",
      "Requirement already satisfied: flatbuffers>=23.5.26 in c:\\users\\asus\\anaconda3\\lib\\site-packages (from tensorflow-intel==2.16.1->tensorflow) (24.3.25)\n",
      "Requirement already satisfied: gast!=0.5.0,!=0.5.1,!=0.5.2,>=0.2.1 in c:\\users\\asus\\anaconda3\\lib\\site-packages (from tensorflow-intel==2.16.1->tensorflow) (0.5.4)\n",
      "Requirement already satisfied: google-pasta>=0.1.1 in c:\\users\\asus\\anaconda3\\lib\\site-packages (from tensorflow-intel==2.16.1->tensorflow) (0.2.0)\n",
      "Requirement already satisfied: h5py>=3.10.0 in c:\\users\\asus\\anaconda3\\lib\\site-packages (from tensorflow-intel==2.16.1->tensorflow) (3.11.0)\n",
      "Requirement already satisfied: libclang>=13.0.0 in c:\\users\\asus\\anaconda3\\lib\\site-packages (from tensorflow-intel==2.16.1->tensorflow) (18.1.1)\n",
      "Requirement already satisfied: ml-dtypes~=0.3.1 in c:\\users\\asus\\anaconda3\\lib\\site-packages (from tensorflow-intel==2.16.1->tensorflow) (0.3.2)\n",
      "Requirement already satisfied: opt-einsum>=2.3.2 in c:\\users\\asus\\anaconda3\\lib\\site-packages (from tensorflow-intel==2.16.1->tensorflow) (3.3.0)\n",
      "Requirement already satisfied: packaging in c:\\users\\asus\\anaconda3\\lib\\site-packages (from tensorflow-intel==2.16.1->tensorflow) (23.1)\n",
      "Requirement already satisfied: protobuf!=4.21.0,!=4.21.1,!=4.21.2,!=4.21.3,!=4.21.4,!=4.21.5,<5.0.0dev,>=3.20.3 in c:\\users\\asus\\anaconda3\\lib\\site-packages (from tensorflow-intel==2.16.1->tensorflow) (3.20.3)\n",
      "Requirement already satisfied: requests<3,>=2.21.0 in c:\\users\\asus\\anaconda3\\lib\\site-packages (from tensorflow-intel==2.16.1->tensorflow) (2.31.0)\n",
      "Requirement already satisfied: setuptools in c:\\users\\asus\\anaconda3\\lib\\site-packages (from tensorflow-intel==2.16.1->tensorflow) (68.2.2)\n",
      "Requirement already satisfied: six>=1.12.0 in c:\\users\\asus\\anaconda3\\lib\\site-packages (from tensorflow-intel==2.16.1->tensorflow) (1.16.0)\n",
      "Requirement already satisfied: termcolor>=1.1.0 in c:\\users\\asus\\anaconda3\\lib\\site-packages (from tensorflow-intel==2.16.1->tensorflow) (2.4.0)\n",
      "Requirement already satisfied: typing-extensions>=3.6.6 in c:\\users\\asus\\anaconda3\\lib\\site-packages (from tensorflow-intel==2.16.1->tensorflow) (4.9.0)\n",
      "Requirement already satisfied: wrapt>=1.11.0 in c:\\users\\asus\\anaconda3\\lib\\site-packages (from tensorflow-intel==2.16.1->tensorflow) (1.14.1)\n",
      "Requirement already satisfied: grpcio<2.0,>=1.24.3 in c:\\users\\asus\\anaconda3\\lib\\site-packages (from tensorflow-intel==2.16.1->tensorflow) (1.64.1)\n",
      "Requirement already satisfied: tensorboard<2.17,>=2.16 in c:\\users\\asus\\anaconda3\\lib\\site-packages (from tensorflow-intel==2.16.1->tensorflow) (2.16.2)\n",
      "Requirement already satisfied: keras>=3.0.0 in c:\\users\\asus\\anaconda3\\lib\\site-packages (from tensorflow-intel==2.16.1->tensorflow) (3.3.3)\n",
      "Requirement already satisfied: tensorflow-io-gcs-filesystem>=0.23.1 in c:\\users\\asus\\anaconda3\\lib\\site-packages (from tensorflow-intel==2.16.1->tensorflow) (0.31.0)\n",
      "Requirement already satisfied: numpy<2.0.0,>=1.23.5 in c:\\users\\asus\\anaconda3\\lib\\site-packages (from tensorflow-intel==2.16.1->tensorflow) (1.26.4)\n",
      "Requirement already satisfied: wheel<1.0,>=0.23.0 in c:\\users\\asus\\anaconda3\\lib\\site-packages (from astunparse>=1.6.0->tensorflow-intel==2.16.1->tensorflow) (0.41.2)\n",
      "Requirement already satisfied: rich in c:\\users\\asus\\anaconda3\\lib\\site-packages (from keras>=3.0.0->tensorflow-intel==2.16.1->tensorflow) (13.3.5)\n",
      "Requirement already satisfied: namex in c:\\users\\asus\\anaconda3\\lib\\site-packages (from keras>=3.0.0->tensorflow-intel==2.16.1->tensorflow) (0.0.8)\n",
      "Requirement already satisfied: optree in c:\\users\\asus\\anaconda3\\lib\\site-packages (from keras>=3.0.0->tensorflow-intel==2.16.1->tensorflow) (0.11.0)\n",
      "Requirement already satisfied: charset-normalizer<4,>=2 in c:\\users\\asus\\anaconda3\\lib\\site-packages (from requests<3,>=2.21.0->tensorflow-intel==2.16.1->tensorflow) (2.0.4)\n",
      "Requirement already satisfied: idna<4,>=2.5 in c:\\users\\asus\\anaconda3\\lib\\site-packages (from requests<3,>=2.21.0->tensorflow-intel==2.16.1->tensorflow) (3.4)\n",
      "Requirement already satisfied: urllib3<3,>=1.21.1 in c:\\users\\asus\\anaconda3\\lib\\site-packages (from requests<3,>=2.21.0->tensorflow-intel==2.16.1->tensorflow) (2.0.7)\n",
      "Requirement already satisfied: certifi>=2017.4.17 in c:\\users\\asus\\anaconda3\\lib\\site-packages (from requests<3,>=2.21.0->tensorflow-intel==2.16.1->tensorflow) (2024.6.2)\n",
      "Requirement already satisfied: markdown>=2.6.8 in c:\\users\\asus\\anaconda3\\lib\\site-packages (from tensorboard<2.17,>=2.16->tensorflow-intel==2.16.1->tensorflow) (3.4.1)\n",
      "Requirement already satisfied: tensorboard-data-server<0.8.0,>=0.7.0 in c:\\users\\asus\\anaconda3\\lib\\site-packages (from tensorboard<2.17,>=2.16->tensorflow-intel==2.16.1->tensorflow) (0.7.2)\n",
      "Requirement already satisfied: werkzeug>=1.0.1 in c:\\users\\asus\\anaconda3\\lib\\site-packages (from tensorboard<2.17,>=2.16->tensorflow-intel==2.16.1->tensorflow) (2.2.3)\n",
      "Requirement already satisfied: MarkupSafe>=2.1.1 in c:\\users\\asus\\anaconda3\\lib\\site-packages (from werkzeug>=1.0.1->tensorboard<2.17,>=2.16->tensorflow-intel==2.16.1->tensorflow) (2.1.3)\n",
      "Requirement already satisfied: markdown-it-py<3.0.0,>=2.2.0 in c:\\users\\asus\\anaconda3\\lib\\site-packages (from rich->keras>=3.0.0->tensorflow-intel==2.16.1->tensorflow) (2.2.0)\n",
      "Requirement already satisfied: pygments<3.0.0,>=2.13.0 in c:\\users\\asus\\anaconda3\\lib\\site-packages (from rich->keras>=3.0.0->tensorflow-intel==2.16.1->tensorflow) (2.15.1)\n",
      "Requirement already satisfied: mdurl~=0.1 in c:\\users\\asus\\anaconda3\\lib\\site-packages (from markdown-it-py<3.0.0,>=2.2.0->rich->keras>=3.0.0->tensorflow-intel==2.16.1->tensorflow) (0.1.0)\n",
      "Note: you may need to restart the kernel to use updated packages.\n"
     ]
    }
   ],
   "source": [
    "pip install tensorflow"
   ]
  },
  {
   "cell_type": "code",
   "execution_count": 350,
   "id": "71985927-6a58-46a8-9f26-108329942f90",
   "metadata": {},
   "outputs": [],
   "source": [
    "import tensorflow as tf"
   ]
  },
  {
   "cell_type": "code",
   "execution_count": 351,
   "id": "854462a4-cb60-4d93-b88a-667d5a87d2e7",
   "metadata": {},
   "outputs": [
    {
     "data": {
      "text/plain": [
       "'2.16.1'"
      ]
     },
     "execution_count": 351,
     "metadata": {},
     "output_type": "execute_result"
    }
   ],
   "source": [
    "tf.__version__"
   ]
  },
  {
   "cell_type": "code",
   "execution_count": 352,
   "id": "c4b25c37-9ed6-4cd6-a3e0-70b8da9953ce",
   "metadata": {},
   "outputs": [],
   "source": [
    "a = tf.constant(\"Hello\")\n",
    "b = tf.constant(\"World\")"
   ]
  },
  {
   "cell_type": "code",
   "execution_count": 353,
   "id": "27480ec4-6b64-4a98-9e3e-dd4b97d17c02",
   "metadata": {},
   "outputs": [
    {
     "data": {
      "text/plain": [
       "tensorflow.python.framework.ops.SymbolicTensor"
      ]
     },
     "execution_count": 353,
     "metadata": {},
     "output_type": "execute_result"
    }
   ],
   "source": [
    "type(a)"
   ]
  },
  {
   "cell_type": "code",
   "execution_count": 354,
   "id": "b0ef0a0d-f9e7-4109-8098-5fb8a5d38e91",
   "metadata": {},
   "outputs": [
    {
     "data": {
      "text/plain": [
       "<tf.Tensor 'Const_51:0' shape=() dtype=string>"
      ]
     },
     "execution_count": 354,
     "metadata": {},
     "output_type": "execute_result"
    }
   ],
   "source": [
    "a"
   ]
  },
  {
   "cell_type": "code",
   "execution_count": 355,
   "id": "5975bd71-6768-443a-a860-6654f0346be0",
   "metadata": {},
   "outputs": [
    {
     "name": "stdout",
     "output_type": "stream",
     "text": [
      "Tensor(\"Const_51:0\", shape=(), dtype=string)\n"
     ]
    }
   ],
   "source": [
    "print(a)"
   ]
  },
  {
   "cell_type": "code",
   "execution_count": 356,
   "id": "04e0fd0a-719b-4271-aa6d-c4f6acec1b95",
   "metadata": {},
   "outputs": [
    {
     "data": {
      "text/plain": [
       "<tf.Operation 'PrintV2_51' type=PrintV2>"
      ]
     },
     "execution_count": 356,
     "metadata": {},
     "output_type": "execute_result"
    }
   ],
   "source": [
    "tf.print(a)"
   ]
  },
  {
   "cell_type": "code",
   "execution_count": 357,
   "id": "9b0efdc7-0eb7-44be-9b43-ef70729d17ed",
   "metadata": {},
   "outputs": [],
   "source": [
    "# Older Verssion Or Other Method\n",
    "# with tf.session() as sess:\n",
    "#     result = sess.run(a)\n",
    "# print(a)"
   ]
  },
  {
   "cell_type": "code",
   "execution_count": 358,
   "id": "602aaa32-afdd-4197-9879-4cf26ebe1572",
   "metadata": {},
   "outputs": [
    {
     "data": {
      "text/plain": [
       "<tf.Operation 'PrintV2_52' type=PrintV2>"
      ]
     },
     "execution_count": 358,
     "metadata": {},
     "output_type": "execute_result"
    }
   ],
   "source": [
    "tf.print(b)"
   ]
  },
  {
   "cell_type": "code",
   "execution_count": 359,
   "id": "a496e13b-3daa-476b-88e5-73bae950234e",
   "metadata": {},
   "outputs": [
    {
     "data": {
      "text/plain": [
       "<tf.Operation 'PrintV2_53' type=PrintV2>"
      ]
     },
     "execution_count": 359,
     "metadata": {},
     "output_type": "execute_result"
    }
   ],
   "source": [
    "tf.print(a+b)"
   ]
  },
  {
   "cell_type": "code",
   "execution_count": 360,
   "id": "4587b286-e101-4ea5-b8bc-5d80de957c48",
   "metadata": {},
   "outputs": [
    {
     "data": {
      "text/plain": [
       "<tf.Operation 'PrintV2_54' type=PrintV2>"
      ]
     },
     "execution_count": 360,
     "metadata": {},
     "output_type": "execute_result"
    }
   ],
   "source": [
    "const = tf.constant(5)\n",
    "tf.print(const)"
   ]
  },
  {
   "cell_type": "code",
   "execution_count": 361,
   "id": "26f1fc8a-2abf-4df3-889d-29cbb5a0d678",
   "metadata": {},
   "outputs": [],
   "source": [
    "mat = tf.fill((3,3),5)"
   ]
  },
  {
   "cell_type": "code",
   "execution_count": 362,
   "id": "01b2f6d6-e537-42a1-aeba-dfc7073f1df1",
   "metadata": {},
   "outputs": [
    {
     "data": {
      "text/plain": [
       "<tf.Operation 'PrintV2_55' type=PrintV2>"
      ]
     },
     "execution_count": 362,
     "metadata": {},
     "output_type": "execute_result"
    }
   ],
   "source": [
    "tf.print(mat)"
   ]
  },
  {
   "cell_type": "code",
   "execution_count": 363,
   "id": "fee734d5-0d02-46fe-b013-4b2b6d938139",
   "metadata": {},
   "outputs": [
    {
     "data": {
      "text/plain": [
       "<tf.Operation 'PrintV2_56' type=PrintV2>"
      ]
     },
     "execution_count": 363,
     "metadata": {},
     "output_type": "execute_result"
    }
   ],
   "source": [
    "zeros = tf.zeros((3,3))\n",
    "tf.print(zeros)"
   ]
  },
  {
   "cell_type": "code",
   "execution_count": 364,
   "id": "3a72eeec-7f27-42bb-9f41-627e7482af86",
   "metadata": {},
   "outputs": [
    {
     "data": {
      "text/plain": [
       "<tf.Operation 'PrintV2_57' type=PrintV2>"
      ]
     },
     "execution_count": 364,
     "metadata": {},
     "output_type": "execute_result"
    }
   ],
   "source": [
    "ones = tf.zeros((3,3))\n",
    "tf.print(ones)"
   ]
  },
  {
   "cell_type": "code",
   "execution_count": 365,
   "id": "e1c079cd-cdaf-4b7d-87ee-69aab331a815",
   "metadata": {},
   "outputs": [
    {
     "data": {
      "text/plain": [
       "TensorShape([Dimension(2), Dimension(2)])"
      ]
     },
     "execution_count": 365,
     "metadata": {},
     "output_type": "execute_result"
    }
   ],
   "source": [
    "a = tf.constant([[2,1],[1,3]])  #two square bracket and two element in it\n",
    "a.get_shape()"
   ]
  },
  {
   "cell_type": "code",
   "execution_count": 366,
   "id": "33367997-4dd4-4872-83de-1c017cc2a678",
   "metadata": {},
   "outputs": [
    {
     "data": {
      "text/plain": [
       "TensorShape([Dimension(2), Dimension(1)])"
      ]
     },
     "execution_count": 366,
     "metadata": {},
     "output_type": "execute_result"
    }
   ],
   "source": [
    "b = tf.constant([[2],[5]])\n",
    "b.get_shape()"
   ]
  },
  {
   "cell_type": "code",
   "execution_count": 367,
   "id": "640d7165-05b9-4a7d-a7ea-cc199b8dba40",
   "metadata": {},
   "outputs": [
    {
     "data": {
      "text/plain": [
       "<tf.Tensor 'MatMul_3:0' shape=(2, 1) dtype=int32>"
      ]
     },
     "execution_count": 367,
     "metadata": {},
     "output_type": "execute_result"
    }
   ],
   "source": [
    "tf.matmul(a,b) #matrix multiplication|"
   ]
  },
  {
   "cell_type": "markdown",
   "id": "4b86d7bb-2d2f-464f-bbf7-d8fcce177c0b",
   "metadata": {},
   "source": [
    "## Tensorflow varibles"
   ]
  },
  {
   "cell_type": "code",
   "execution_count": 368,
   "id": "6c4ee842-5581-4570-8456-a2218485c37c",
   "metadata": {},
   "outputs": [],
   "source": [
    "string = tf.Variable(\"My name is Chris George\", tf.string)\n",
    "number = tf.Variable(56, tf.int16)\n",
    "floating = tf.Variable(5.6,tf.float64)"
   ]
  },
  {
   "cell_type": "code",
   "execution_count": 369,
   "id": "33d3a359-d3aa-4461-9ffe-0d9d5c32aa7c",
   "metadata": {},
   "outputs": [
    {
     "data": {
      "text/plain": [
       "<tf.Operation 'PrintV2_60' type=PrintV2>"
      ]
     },
     "execution_count": 369,
     "metadata": {},
     "output_type": "execute_result"
    }
   ],
   "source": [
    "tf.print(string)\n",
    "tf.print(number)\n",
    "tf.print(floating)"
   ]
  },
  {
   "cell_type": "code",
   "execution_count": 370,
   "id": "02778233-c58d-48fe-affe-e30a53f6b16a",
   "metadata": {},
   "outputs": [],
   "source": [
    "my_tensor = tf.random.uniform((5,5),0,1) #uniformly generated random number"
   ]
  },
  {
   "cell_type": "code",
   "execution_count": 371,
   "id": "d55de049-cb20-4f43-9b79-6e89b0e1619e",
   "metadata": {},
   "outputs": [
    {
     "data": {
      "text/plain": [
       "<tf.Tensor 'random_uniform_3/RandomUniform:0' shape=(5, 5) dtype=float32>"
      ]
     },
     "execution_count": 371,
     "metadata": {},
     "output_type": "execute_result"
    }
   ],
   "source": [
    "my_tensor"
   ]
  },
  {
   "cell_type": "code",
   "execution_count": 372,
   "id": "8faf6d7f-9e5a-4c3d-b234-686fcaec99a1",
   "metadata": {},
   "outputs": [],
   "source": [
    "var = tf.Variable(initial_value = my_tensor)"
   ]
  },
  {
   "cell_type": "code",
   "execution_count": 373,
   "id": "c589173d-8939-4b1e-9f67-b43da36335e8",
   "metadata": {},
   "outputs": [
    {
     "name": "stdout",
     "output_type": "stream",
     "text": [
      "<tf.Variable 'Variable_21:0' shape=(5, 5) dtype=float32>\n"
     ]
    }
   ],
   "source": [
    "print(var)"
   ]
  },
  {
   "cell_type": "code",
   "execution_count": 374,
   "id": "d30c72ae-d6d6-4a3d-a247-0498375393a9",
   "metadata": {},
   "outputs": [],
   "source": [
    "# Older Verssion Or Other Method\n",
    "# sess = tf.InterativeSession()\n",
    "# init = tf.global_variable_intializer()\n",
    "# sess.run(init)\n",
    "# sess.run(var)"
   ]
  },
  {
   "cell_type": "markdown",
   "id": "97f4216f-43c7-4b5c-983f-2ab1a5f440be",
   "metadata": {},
   "source": [
    "## Rank or degree of tensor"
   ]
  },
  {
   "cell_type": "code",
   "execution_count": 375,
   "id": "29c55f8c-19de-4735-91d7-cc9a4f803654",
   "metadata": {},
   "outputs": [],
   "source": [
    "rank1_tensor = tf.Variable([\"hello\"], tf.string)\n",
    "rank2_tensor = tf.Variable([[\"Hello\",\"World\"],[\"Good\",\"Morning\"]], tf.string)"
   ]
  },
  {
   "cell_type": "code",
   "execution_count": 376,
   "id": "4315dd6f-40ed-411b-9b8b-f6853c6fc5cb",
   "metadata": {},
   "outputs": [
    {
     "data": {
      "text/plain": [
       "<tf.Tensor 'Rank_6:0' shape=() dtype=int32>"
      ]
     },
     "execution_count": 376,
     "metadata": {},
     "output_type": "execute_result"
    }
   ],
   "source": [
    "tf.rank(rank1_tensor)"
   ]
  },
  {
   "cell_type": "code",
   "execution_count": 377,
   "id": "930c3a3e-803e-440c-8b73-5ad2582bef5b",
   "metadata": {},
   "outputs": [
    {
     "data": {
      "text/plain": [
       "<tf.Tensor 'Rank_7:0' shape=() dtype=int32>"
      ]
     },
     "execution_count": 377,
     "metadata": {},
     "output_type": "execute_result"
    }
   ],
   "source": [
    "tf.rank(rank2_tensor)"
   ]
  },
  {
   "cell_type": "code",
   "execution_count": 378,
   "id": "fb3f34c5-1638-4226-8331-8047b0d98467",
   "metadata": {},
   "outputs": [
    {
     "data": {
      "text/plain": [
       "TensorShape([Dimension(1)])"
      ]
     },
     "execution_count": 378,
     "metadata": {},
     "output_type": "execute_result"
    }
   ],
   "source": [
    "# get the shape of the tensor\n",
    "rank1_tensor.shape"
   ]
  },
  {
   "cell_type": "code",
   "execution_count": 379,
   "id": "fee00dba-ecd2-4559-8573-9dba33134c1a",
   "metadata": {},
   "outputs": [
    {
     "data": {
      "text/plain": [
       "TensorShape([Dimension(2), Dimension(2)])"
      ]
     },
     "execution_count": 379,
     "metadata": {},
     "output_type": "execute_result"
    }
   ],
   "source": [
    "rank2_tensor.shape"
   ]
  },
  {
   "cell_type": "markdown",
   "id": "bf3810a2-a68c-42a6-9f2e-629c35bb66d4",
   "metadata": {},
   "source": [
    "## Reshape the tensor"
   ]
  },
  {
   "cell_type": "code",
   "execution_count": 380,
   "id": "d8879a1b-0a9c-4e88-8044-b45fdfc2dd6e",
   "metadata": {},
   "outputs": [
    {
     "data": {
      "text/plain": [
       "<tf.Operation 'PrintV2_61' type=PrintV2>"
      ]
     },
     "execution_count": 380,
     "metadata": {},
     "output_type": "execute_result"
    }
   ],
   "source": [
    "tensor1 = tf.ones([1,3,4]) #1*3*4 = 12\n",
    "tf.print(tensor1)"
   ]
  },
  {
   "cell_type": "code",
   "execution_count": 381,
   "id": "80f05c3f-67fb-4525-a6c0-2c8eefbd8b5b",
   "metadata": {},
   "outputs": [
    {
     "data": {
      "text/plain": [
       "<tf.Operation 'PrintV2_62' type=PrintV2>"
      ]
     },
     "execution_count": 381,
     "metadata": {},
     "output_type": "execute_result"
    }
   ],
   "source": [
    " tensor1_1 = tf.ones([2,3,4])\n",
    "tf.print(tensor1_1)"
   ]
  },
  {
   "cell_type": "code",
   "execution_count": 382,
   "id": "5f81defd-50cd-4210-9334-756494aa540f",
   "metadata": {},
   "outputs": [
    {
     "data": {
      "text/plain": [
       "<tf.Operation 'PrintV2_63' type=PrintV2>"
      ]
     },
     "execution_count": 382,
     "metadata": {},
     "output_type": "execute_result"
    }
   ],
   "source": [
    " tensor1_2 = tf.ones([3,3,4])\n",
    "tf.print(tensor1_2)"
   ]
  },
  {
   "cell_type": "code",
   "execution_count": 383,
   "id": "d70e0326-a3ba-4fd5-9bc7-afda43b031dd",
   "metadata": {},
   "outputs": [
    {
     "data": {
      "text/plain": [
       "<tf.Operation 'PrintV2_64' type=PrintV2>"
      ]
     },
     "execution_count": 383,
     "metadata": {},
     "output_type": "execute_result"
    }
   ],
   "source": [
    "tensor2 = tf.reshape(tensor1, [1,2,2,3]) #1*2*2*3 =12\n",
    "tf.print(tensor2)"
   ]
  },
  {
   "cell_type": "code",
   "execution_count": 384,
   "id": "31d7e00f-443a-4851-a5c4-697c70eb088d",
   "metadata": {},
   "outputs": [
    {
     "data": {
      "text/plain": [
       "<tf.Operation 'PrintV2_65' type=PrintV2>"
      ]
     },
     "execution_count": 384,
     "metadata": {},
     "output_type": "execute_result"
    }
   ],
   "source": [
    "tensor2_1 = tf.reshape(tensor1, [1,4,3]) #1*2*2*3 =12\n",
    "tf.print(tensor2_1)"
   ]
  },
  {
   "cell_type": "code",
   "execution_count": 385,
   "id": "f004e8e4-f2ca-4e59-b876-8b63973e5b13",
   "metadata": {},
   "outputs": [
    {
     "data": {
      "text/plain": [
       "<tf.Operation 'PrintV2_66' type=PrintV2>"
      ]
     },
     "execution_count": 385,
     "metadata": {},
     "output_type": "execute_result"
    }
   ],
   "source": [
    "tensor3 = tf.reshape(tensor2, [4,3])\n",
    "tf.print(tensor3)"
   ]
  },
  {
   "cell_type": "code",
   "execution_count": 386,
   "id": "e09a151f-fae8-4632-9793-66595fdc842d",
   "metadata": {},
   "outputs": [
    {
     "data": {
      "text/plain": [
       "<tf.Operation 'PrintV2_67' type=PrintV2>"
      ]
     },
     "execution_count": 386,
     "metadata": {},
     "output_type": "execute_result"
    }
   ],
   "source": [
    "tensor4 = tf.reshape(tensor3, [4,-1]) # -1 automatically calculate the value of x that 4*x=12\n",
    "tf.print(tensor4)"
   ]
  },
  {
   "cell_type": "markdown",
   "id": "55245a4e-d2cc-43dc-8929-999bc8ed0246",
   "metadata": {},
   "source": [
    "## Tensorflow placeholder"
   ]
  },
  {
   "cell_type": "code",
   "execution_count": 387,
   "id": "e78dbacc-3705-4fa1-9ee4-be9be9889cc4",
   "metadata": {},
   "outputs": [],
   "source": [
    "import tensorflow.compat.v1 as tf\n",
    "tf.disable_v2_behavior()\n",
    "x = tf1.placeholder(shape = [None,2], dtype=tf.float32)"
   ]
  },
  {
   "cell_type": "code",
   "execution_count": 388,
   "id": "b7765c4f-b372-4cc7-adfe-8d3868d6e831",
   "metadata": {},
   "outputs": [],
   "source": [
    "import numpy as np"
   ]
  },
  {
   "cell_type": "code",
   "execution_count": 389,
   "id": "5b609a73-5e0a-47fa-af0c-b601dab8811e",
   "metadata": {},
   "outputs": [],
   "source": [
    "np.random.seed(6)\n",
    "tf.set_random_seed(6)"
   ]
  },
  {
   "cell_type": "code",
   "execution_count": 390,
   "id": "dc46a808-96de-48aa-808c-885b74eacd51",
   "metadata": {},
   "outputs": [
    {
     "data": {
      "text/plain": [
       "array([[89.28601514, 33.19798053, 82.12291231],\n",
       "       [ 4.16966257, 10.76566799, 59.50520642],\n",
       "       [52.98173622, 41.88074286, 33.54078493]])"
      ]
     },
     "execution_count": 390,
     "metadata": {},
     "output_type": "execute_result"
    }
   ],
   "source": [
    "rand_a = np.random.uniform(0,100,(3,3))\n",
    "rand_a"
   ]
  },
  {
   "cell_type": "code",
   "execution_count": 391,
   "id": "012a6ed5-953d-4f44-826b-71d9c636e764",
   "metadata": {},
   "outputs": [
    {
     "data": {
      "text/plain": [
       "array([[62.25194322],\n",
       "       [43.81414261],\n",
       "       [73.58821063]])"
      ]
     },
     "execution_count": 391,
     "metadata": {},
     "output_type": "execute_result"
    }
   ],
   "source": [
    "rand_b = np.random.uniform(0,100,(3,1))\n",
    "rand_b"
   ]
  },
  {
   "cell_type": "code",
   "execution_count": 392,
   "id": "a0071d1a-b3ca-436d-a1f9-b12733d8f0d5",
   "metadata": {},
   "outputs": [],
   "source": [
    "a = tf.placeholder(tf.float32)\n",
    "b = tf.placeholder(tf.float32)"
   ]
  },
  {
   "cell_type": "code",
   "execution_count": 393,
   "id": "459fe92f-9c56-47ca-b4be-4d2584ecc60b",
   "metadata": {},
   "outputs": [],
   "source": [
    "add = a+b"
   ]
  },
  {
   "cell_type": "code",
   "execution_count": 394,
   "id": "0ebb1e9c-366a-4415-98ae-c8627d6c56dd",
   "metadata": {},
   "outputs": [],
   "source": [
    "mul = a*b"
   ]
  },
  {
   "cell_type": "code",
   "execution_count": 395,
   "id": "5132772a-b46b-440d-93fd-34ef9251187f",
   "metadata": {},
   "outputs": [
    {
     "name": "stdout",
     "output_type": "stream",
     "text": [
      "[[151.53796   95.44992  144.37485 ]\n",
      " [ 47.983807  54.57981  103.31935 ]\n",
      " [126.56995  115.46895  107.129   ]]\n",
      "\n",
      "\n",
      "[[5558.228   2066.6387  5112.3105 ]\n",
      " [ 182.69019  471.68854 2607.1697 ]\n",
      " [3898.831   3081.9287  2468.2065 ]]\n"
     ]
    }
   ],
   "source": [
    "# This is older version\n",
    "with tf.Session() as sess:\n",
    "    add_result = sess.run(add, feed_dict={a:rand_a, b:rand_b})\n",
    "    #feed dict : A dictionary that pass numeric value to computational graph\n",
    "    print(add_result)\n",
    "    print(\"\\n\")\n",
    "    \n",
    "    mul_result = sess.run(mul, feed_dict = {a:rand_a, b:rand_b})\n",
    "    print(mul_result)"
   ]
  },
  {
   "cell_type": "markdown",
   "id": "a0cd4acb-f568-4d36-bde4-33627e6f2a2d",
   "metadata": {},
   "source": [
    "## Let's Create a neural network"
   ]
  },
  {
   "cell_type": "markdown",
   "id": "28418a48-e81a-4ef1-9bf8-f81848f79b74",
   "metadata": {},
   "source": [
    "<img src=\"Neural-Networks-Architecture.png\">"
   ]
  },
  {
   "cell_type": "code",
   "execution_count": 396,
   "id": "26e97309-3eda-4ee4-81d0-fc278f14e60a",
   "metadata": {},
   "outputs": [],
   "source": [
    "# dense neural network to convolutional neural network to lower the complexity "
   ]
  },
  {
   "cell_type": "code",
   "execution_count": 397,
   "id": "8f5fbf14-9ae3-4e3f-810c-6e87e91b41af",
   "metadata": {},
   "outputs": [],
   "source": [
    "# image\n"
   ]
  },
  {
   "cell_type": "code",
   "execution_count": 398,
   "id": "ccfdd9c5-9514-4585-927a-84159af1735c",
   "metadata": {},
   "outputs": [
    {
     "name": "stdout",
     "output_type": "stream",
     "text": [
      "2.16.1\n"
     ]
    }
   ],
   "source": [
    "import tensorflow as tf\n",
    "print(tf.__version__)\n",
    "from tensorflow import keras\n",
    "import numpy as np\n",
    "import matplotlib.pyplot as plt"
   ]
  },
  {
   "cell_type": "code",
   "execution_count": 399,
   "id": "3bfa5aac-4743-4a24-b7e9-ff64430ba5f6",
   "metadata": {},
   "outputs": [],
   "source": [
    "dataset = keras.datasets.fashion_mnist\n",
    "(train_images, train_labels),(test_images, test_labels)= dataset.load_data()"
   ]
  },
  {
   "cell_type": "code",
   "execution_count": 400,
   "id": "9302127a-39c5-410c-976d-2acf578ac6a6",
   "metadata": {},
   "outputs": [
    {
     "name": "stdout",
     "output_type": "stream",
     "text": [
      "(60000, 28, 28)\n",
      "(60000,)\n",
      "(10000, 28, 28)\n",
      "(10000,)\n"
     ]
    }
   ],
   "source": [
    "print(train_images.shape)\n",
    "print(train_labels.shape)\n",
    "print(test_images.shape)\n",
    "print(test_labels.shape)"
   ]
  },
  {
   "cell_type": "code",
   "execution_count": 401,
   "id": "efc307c7-c9b3-4308-a764-f1b0925bbf4f",
   "metadata": {},
   "outputs": [],
   "source": [
    "class_names = ['T-shirt/top','Trouser','Pullover','Dress','Coat','Sandal','Shirt','Sneaker','Bag','Ankle Boot']"
   ]
  },
  {
   "cell_type": "code",
   "execution_count": 402,
   "id": "6c9a5c61-b35e-451d-b13b-d65fb8e73e10",
   "metadata": {},
   "outputs": [
    {
     "data": {
      "image/png": "[encoded data removed]",
      "text/plain": [
       "<Figure size 640x480 with 1 Axes>"
      ]
     },
     "metadata": {},
     "output_type": "display_data"
    }
   ],
   "source": [
    "plt.figure()\n",
    "plt.imshow(train_images[5])\n",
    "plt.show()"
   ]
  },
  {
   "cell_type": "code",
   "execution_count": 403,
   "id": "41f5a8f5-545b-4296-96f4-958cf24c85a4",
   "metadata": {},
   "outputs": [],
   "source": [
    "# 0-255  ---> 0-1\n",
    "\n",
    "train_images = train_images/255\n",
    "test_images = test_images/255 "
   ]
  },
  {
   "cell_type": "code",
   "execution_count": 404,
   "id": "82167b95-af63-4d57-b514-d10009be5408",
   "metadata": {},
   "outputs": [],
   "source": [
    "model = keras.Sequential([\n",
    "    keras.layers.Flatten(input_shape=(28,28)), #input layer\n",
    "    keras.layers.Dense(128, activation='relu'), #Hidden layer\n",
    "    keras.layers.Dense(10, activation='softmax') #output layer\n",
    "])\n",
    "\n",
    "model.compile(optimizer = 'adam', #gradient decent algorithm\n",
    "             loss = 'sparse_categorical_crossentropy', # calculate and decrease the loss\n",
    "              metrics = ['accuracy'])"
   ]
  },
  {
   "cell_type": "code",
   "execution_count": 405,
   "id": "68de087c-f72b-48d7-958c-ba3203000b94",
   "metadata": {},
   "outputs": [
    {
     "name": "stdout",
     "output_type": "stream",
     "text": [
      "Epoch 1/10\n"
     ]
    },
    {
     "ename": "RuntimeError",
     "evalue": "`tf.data.Dataset` only supports Python-style iteration in eager mode or within tf.function.",
     "output_type": "error",
     "traceback": [
      "\u001b[1;31m---------------------------------------------------------------------------\u001b[0m",
      "\u001b[1;31mRuntimeError\u001b[0m                              Traceback (most recent call last)",
      "Cell \u001b[1;32mIn[405], line 1\u001b[0m\n\u001b[1;32m----> 1\u001b[0m model\u001b[38;5;241m.\u001b[39mfit(train_images, train_labels, epochs\u001b[38;5;241m=\u001b[39m\u001b[38;5;241m10\u001b[39m)\n",
      "File \u001b[1;32m~\\anaconda3\\Lib\\site-packages\\keras\\src\\utils\\traceback_utils.py:122\u001b[0m, in \u001b[0;36mfilter_traceback.<locals>.error_handler\u001b[1;34m(*args, **kwargs)\u001b[0m\n\u001b[0;32m    119\u001b[0m     filtered_tb \u001b[38;5;241m=\u001b[39m _process_traceback_frames(e\u001b[38;5;241m.\u001b[39m__traceback__)\n\u001b[0;32m    120\u001b[0m     \u001b[38;5;66;03m# To get the full stack trace, call:\u001b[39;00m\n\u001b[0;32m    121\u001b[0m     \u001b[38;5;66;03m# `keras.config.disable_traceback_filtering()`\u001b[39;00m\n\u001b[1;32m--> 122\u001b[0m     \u001b[38;5;28;01mraise\u001b[39;00m e\u001b[38;5;241m.\u001b[39mwith_traceback(filtered_tb) \u001b[38;5;28;01mfrom\u001b[39;00m \u001b[38;5;28;01mNone\u001b[39;00m\n\u001b[0;32m    123\u001b[0m \u001b[38;5;28;01mfinally\u001b[39;00m:\n\u001b[0;32m    124\u001b[0m     \u001b[38;5;28;01mdel\u001b[39;00m filtered_tb\n",
      "File \u001b[1;32m~\\anaconda3\\Lib\\site-packages\\tensorflow\\python\\data\\ops\\dataset_ops.py:503\u001b[0m, in \u001b[0;36mDatasetV2.__iter__\u001b[1;34m(self)\u001b[0m\n\u001b[0;32m    501\u001b[0m     \u001b[38;5;28;01mreturn\u001b[39;00m iterator_ops\u001b[38;5;241m.\u001b[39mOwnedIterator(\u001b[38;5;28mself\u001b[39m)\n\u001b[0;32m    502\u001b[0m \u001b[38;5;28;01melse\u001b[39;00m:\n\u001b[1;32m--> 503\u001b[0m   \u001b[38;5;28;01mraise\u001b[39;00m \u001b[38;5;167;01mRuntimeError\u001b[39;00m(\u001b[38;5;124m\"\u001b[39m\u001b[38;5;124m`tf.data.Dataset` only supports Python-style \u001b[39m\u001b[38;5;124m\"\u001b[39m\n\u001b[0;32m    504\u001b[0m                      \u001b[38;5;124m\"\u001b[39m\u001b[38;5;124miteration in eager mode or within tf.function.\u001b[39m\u001b[38;5;124m\"\u001b[39m)\n",
      "\u001b[1;31mRuntimeError\u001b[0m: `tf.data.Dataset` only supports Python-style iteration in eager mode or within tf.function."
     ]
    }
   ],
   "source": [
    "model.fit(train_images, train_labels, epochs=10) # epochs means how many times model look the dataset here it is 10\n"
   ]
  },
  {
   "cell_type": "code",
   "execution_count": null,
   "id": "6e46e936-bdf2-4f47-bbf9-cb32df6f2f90",
   "metadata": {},
   "outputs": [],
   "source": []
  }
 ],
 "metadata": {
  "kernelspec": {
   "display_name": "Python 3 (ipykernel)",
   "language": "python",
   "name": "python3"
  },
  "language_info": {
   "codemirror_mode": {
    "name": "ipython",
    "version": 3
   },
   "file_extension": ".py",
   "mimetype": "text/x-python",
   "name": "python",
   "nbconvert_exporter": "python",
   "pygments_lexer": "ipython3",
   "version": "3.11.7"
  }
 },
 "nbformat": 4,
 "nbformat_minor": 5
}
